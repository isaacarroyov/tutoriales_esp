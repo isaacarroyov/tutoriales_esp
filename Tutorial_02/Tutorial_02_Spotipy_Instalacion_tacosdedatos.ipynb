{
 "cells": [
  {
   "cell_type": "markdown",
   "metadata": {},
   "source": [
    "# Spotipy: ¿Qué es? ¿Cómo se usa? ¿Con qué se come?"
   ]
  },
  {
   "cell_type": "markdown",
   "metadata": {},
   "source": [
    "Esta _notebook_ es parte del artículo [**Spotipy: ¿Qué es? ¿Cómo se usa? ¿Con qué se come?**](https://www.tacosdedatos.com/unisaacarroyov/spotipy-que-es-como-se-usa-con-que-se-come-jbn) de la serie de \n",
    "tutoriales [**Spotipy 101**](https://www.tacosdedatos.com/unisaacarroyov/series/6)"
   ]
  },
  {
   "cell_type": "markdown",
   "metadata": {},
   "source": [
    "## Pequeña e informal introducción"
   ]
  },
  {
   "cell_type": "markdown",
   "metadata": {},
   "source": [
    "No soy muy fan de las API's por el simple hecho de que siempre me revuelvo al hacer solicitudes, y a pesar de que hay muchos videos y tutoriales, en algún punto me revuelvo y me frustro. Es por eso que cuando encuentro algún tutorial en español o con un idioma casi _for dummies_ me emociono : pleading_face: \n",
    "\n",
    "Para el caso de la **API de Spotify** no fue el caso, pero encontré algo similar, una paquetería de **Python** que facilita las peticiones :call_me_hand: Aquí es cuando les presento **Spotipy**.\n",
    "\n",
    "En esta serie de pequeños y (espero) rápidos tutoriales, les mostraré cómo uso la API, que es principalmente para obtener características de las canciones (_audio features_).\n",
    "\n",
    "Este primer tutorial se enfocará principalmente en saber instalar la librería, crear un proyecto y obtener nuestras primeras canciones."
   ]
  },
  {
   "cell_type": "markdown",
   "metadata": {},
   "source": [
    "## Primero lo primero: Instalación"
   ]
  },
  {
   "cell_type": "markdown",
   "metadata": {},
   "source": [
    "Como muchas otras librerías ([y cómo menciona la documentación oficial de Spotify, la cual la puedes ver al dar click en esta oración](https://spotipy.readthedocs.io/en/2.19.0/#installation)) se instala de la siguiente manera:\n",
    "\n",
    "```\n",
    "pip install spotipy\n",
    "```\n",
    "\n",
    "y para actualizarlo:\n",
    "\n",
    "```\n",
    "pip install spotipy --upgrade\n",
    "```"
   ]
  },
  {
   "cell_type": "markdown",
   "metadata": {},
   "source": [
    "## Creación de un _Client ID_ y _Client Secret_"
   ]
  },
  {
   "cell_type": "markdown",
   "metadata": {},
   "source": [
    "Para echar a andar nuestras peticiones, tenemos que tener un _Client ID_ y _Client Secret_, algo así como un usuario y contraseña del proyecto.\n",
    "\n",
    "Para obtenerlos tenemos que seguir los siguientes pasos:"
   ]
  },
  {
   "cell_type": "markdown",
   "metadata": {},
   "source": [
    "### 1. Registrarnos en Spotify for Developers\n"
   ]
  },
  {
   "cell_type": "markdown",
   "metadata": {},
   "source": [
    "El primer paso es entrar a [https://developer.spotify.com/](https://developer.spotify.com/) y darle click a **Dashboard** (elipse roja de la imagen)\n",
    "\n",
    "\n",
    "![](https://www.tacosdedatos.com/uploads/articles/wojcaisq8dbm8a3na45k.png)\n",
    "\n",
    "Lo siguiente será crear una cuenta de **Developer** en dado caso de que no tengamos una (rectángulo rojo de la imagen).\n",
    "\n",
    "![](https://www.tacosdedatos.com/uploads/articles/0xggr51ostnjmv011o5w.png)\n"
   ]
  },
  {
   "cell_type": "markdown",
   "metadata": {},
   "source": [
    "### 2. Crear nuestra App o Proyecto\n"
   ]
  },
  {
   "cell_type": "markdown",
   "metadata": {},
   "source": [
    "Para crear nuestra App o Proyecto, se puede de dos maneras:\n",
    "1. Dando click en los rectángulos de línea punteada (rectángulo rojo de la imagen).\n",
    "2. Dando click en el botón de **Create an App** (rectángulo naranja de la imagen).\n",
    "\n",
    "![](https://www.tacosdedatos.com/images/5J8aGt38I1VRL4vzHCnap6jnLljMKb_r7GBL6VFqXpE/w:880/mb:500000/ar:1/aHR0cHM6Ly93d3cu/dGFjb3NkZWRhdG9z/LmNvbS91cGxvYWRz/L2FydGljbGVzL3Y0/MjNsZHZ1YXo3amhh/czZyaXUzLnBuZw)\n",
    "\n",
    "Para crear la app tendremos que proporcionar un nombre y una breve descripción\n",
    "\n",
    "![](https://www.tacosdedatos.com/images/X7GbR534yYZ8WOpQiNI8_W3qnHN60GfPMqkrDCW2SHE/w:880/mb:500000/ar:1/aHR0cHM6Ly93d3cu/dGFjb3NkZWRhdG9z/LmNvbS91cGxvYWRz/L2FydGljbGVzL3hi/dnhhMHpnMWhwYzFt/Nzhmd2F0LnBuZw)\n"
   ]
  },
  {
   "cell_type": "markdown",
   "metadata": {},
   "source": [
    "### 3. Obtener las claves mágicas (_Client ID_ y _Client Secret_)\n"
   ]
  },
  {
   "cell_type": "markdown",
   "metadata": {},
   "source": [
    "Con la App/Proyecto creado ahora si... **VAMOS POR LAS CLAVES**. Debajo del nombre y descripción del proyecto podrás encontrar el **Client ID** (rectángulo rojo de la imagen) el cual vamos a copiar y guardar en un lugar seguro. Seguidamente dar click en **Show Client Secret** (rectángulo naranja de la imagen) para copiar y guardar en un lugar seguro el código que aparezca.\n",
    "\n",
    "![](https://www.tacosdedatos.com/uploads/articles/dbfzww31jx098ym8w3lz.png)"
   ]
  },
  {
   "cell_type": "markdown",
   "metadata": {},
   "source": [
    "## Obtener el identificador de un álbum musical\n"
   ]
  },
  {
   "cell_type": "markdown",
   "metadata": {},
   "source": [
    "Todo _elemento_ (por así decirle) que se encuentre en Spotify tine un **URI**, y esto nos ayudará a obtener su información. \n",
    "\n",
    "Para obtener el URI de un albúm musical vamos a tener que entrar a la aplicación de escritorio de Spotify, buscar el álbum deseado (en este caso estaré usando el álbum \"Harry's House\" del poderosísimo Harry Styles) y darle click a los **tres puntitos** :arrow_right: **Compartir/Share** :arrow_right: presionar **option ⌥** (macOS) o **control Crtl** (en Windows) :arrow_right: **Copy Spotify URI**, como se muestra en la imagen. \n",
    "\n",
    "![](https://www.tacosdedatos.com/uploads/articles/mdo138qrzsvkm0d98u39.png)\n",
    "\n",
    "Copiar el URI y guadarlo en algún lado porque en un momento vamos a usarlo"
   ]
  },
  {
   "cell_type": "markdown",
   "metadata": {},
   "source": [
    "## Obtener las canciones del álbum musical"
   ]
  },
  {
   "cell_type": "code",
   "execution_count": 1,
   "metadata": {},
   "outputs": [],
   "source": [
    "import spotipy\n",
    "from spotipy.oauth2 import SpotifyClientCredentials\n",
    "\n",
    "clientID = 'CLIENT_ID'\n",
    "clientSecret = 'CLIENT_SECRET'\n",
    "\n",
    "client_credential_manager = SpotifyClientCredentials(client_id=clientID, client_secret=clientSecret)\n",
    "sp = spotipy.Spotify(client_credentials_manager=client_credential_manager)"
   ]
  },
  {
   "cell_type": "code",
   "execution_count": 2,
   "metadata": {},
   "outputs": [
    {
     "name": "stdout",
     "output_type": "stream",
     "text": [
      "Music For a Sushi Restaurant\n",
      "Late Night Talking\n",
      "Grapejuice\n",
      "As It Was\n",
      "Daylight\n",
      "Little Freak\n",
      "Matilda\n",
      "Cinema\n",
      "Daydreaming\n",
      "Keep Driving\n",
      "Satellite\n",
      "Boyfriends\n",
      "Love Of My Life\n"
     ]
    }
   ],
   "source": [
    "dict_harrys_house = sp.album_tracks('spotify:album:5r36AJ6VOJtp00oxSkBZ5h')\n",
    "list_info_harrys_house_canciones = dict_harrys_house['items']\n",
    "\n",
    "for cancion in list_info_harrys_house_canciones:\n",
    "    print(cancion['name'])"
   ]
  }
 ],
 "metadata": {
  "interpreter": {
   "hash": "f92b80126452d1b1df02d4ec903006db7e42afba37a86d4cc2b5d7ce04f56ff3"
  },
  "kernelspec": {
   "display_name": "Python 3.8.12 ('spotify_api')",
   "language": "python",
   "name": "python3"
  },
  "language_info": {
   "codemirror_mode": {
    "name": "ipython",
    "version": 3
   },
   "file_extension": ".py",
   "mimetype": "text/x-python",
   "name": "python",
   "nbconvert_exporter": "python",
   "pygments_lexer": "ipython3",
   "version": "3.8.12"
  },
  "orig_nbformat": 4
 },
 "nbformat": 4,
 "nbformat_minor": 2
}
