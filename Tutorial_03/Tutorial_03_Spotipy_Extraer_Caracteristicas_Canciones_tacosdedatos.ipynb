{
 "cells": [
  {
   "cell_type": "markdown",
   "metadata": {},
   "source": [
    "# Spotipy: Extraer características de canciones"
   ]
  },
  {
   "cell_type": "markdown",
   "metadata": {},
   "source": [
    "Esta _notebook_ es parte del artículo [**Spotipy: Extraer características de canciones**](https://www.tacosdedatos.com/unisaacarroyov/spotipy-extraer-caracteristicas-de-canciones-9km) de la serie de \n",
    "tutoriales [**Spotipy 101**](https://www.tacosdedatos.com/unisaacarroyov/series/6)"
   ]
  },
  {
   "cell_type": "markdown",
   "metadata": {},
   "source": [
    "## Librerías necesarias"
   ]
  },
  {
   "cell_type": "code",
   "execution_count": 4,
   "metadata": {},
   "outputs": [],
   "source": [
    "# Spotify\n",
    "import spotipy\n",
    "from spotipy.oauth2 import SpotifyClientCredentials\n",
    "\n",
    "# Crear dataframe\n",
    "import pandas as pd "
   ]
  },
  {
   "cell_type": "markdown",
   "metadata": {},
   "source": [
    "## Entrar a Spotify"
   ]
  },
  {
   "cell_type": "code",
   "execution_count": null,
   "metadata": {},
   "outputs": [],
   "source": [
    "clientID = 'CLIENT_ID'\n",
    "clientSecret = 'CLIENT_SECRET'\n",
    "\n",
    "client_credential_manager = SpotifyClientCredentials(client_id=clientID, client_secret=clientSecret)\n",
    "sp = spotipy.Spotify(client_credentials_manager=client_credential_manager)"
   ]
  },
  {
   "cell_type": "markdown",
   "metadata": {},
   "source": [
    "## Obtener canciones del album Harry's House por Harry Styles"
   ]
  },
  {
   "cell_type": "code",
   "execution_count": 5,
   "metadata": {},
   "outputs": [
    {
     "name": "stdout",
     "output_type": "stream",
     "text": [
      "dict_keys(['href', 'items', 'limit', 'next', 'offset', 'previous', 'total'])\n"
     ]
    }
   ],
   "source": [
    "uri_harrys_house = 'spotify:album:5r36AJ6VOJtp00oxSkBZ5h'\n",
    "dict_harrys_house = sp.album_tracks(uri_harrys_house)\n",
    "print(dict_harrys_house.keys())"
   ]
  },
  {
   "cell_type": "markdown",
   "metadata": {},
   "source": [
    "list_info_harrys_house_canciones = dict_harrys_house['items']"
   ]
  },
  {
   "cell_type": "code",
   "execution_count": 7,
   "metadata": {},
   "outputs": [
    {
     "name": "stdout",
     "output_type": "stream",
     "text": [
      "El album tiene 13 canciones\n"
     ]
    }
   ],
   "source": [
    "# Lista de canciones\n",
    "list_harrys_house_canciones = dict_harrys_house['items']\n",
    "print(f\"El album tiene {len(list_harrys_house_canciones)} canciones\")"
   ]
  },
  {
   "cell_type": "code",
   "execution_count": 8,
   "metadata": {},
   "outputs": [
    {
     "name": "stdout",
     "output_type": "stream",
     "text": [
      "dict_keys(['artists', 'available_markets', 'disc_number', 'duration_ms', 'explicit', 'external_urls', 'href', 'id', 'is_local', 'name', 'preview_url', 'track_number', 'type', 'uri'])\n"
     ]
    }
   ],
   "source": [
    "# Extraer info de una sola canción\n",
    "dict_primera_cancion = list_harrys_house_canciones[0]\n",
    "print(dict_primera_cancion.keys())"
   ]
  },
  {
   "cell_type": "code",
   "execution_count": 10,
   "metadata": {},
   "outputs": [],
   "source": [
    "# Guardar name, uri y duration_ms\n",
    "list_names_songs = []\n",
    "list_uri_songs = []\n",
    "\n",
    "for cancion in list_harrys_house_canciones:\n",
    "    list_names_songs.append(cancion['name'])\n",
    "    list_uri_songs.append(cancion['uri'])"
   ]
  },
  {
   "cell_type": "markdown",
   "metadata": {},
   "source": [
    "## Extraer _audio features_"
   ]
  },
  {
   "cell_type": "code",
   "execution_count": 16,
   "metadata": {},
   "outputs": [],
   "source": [
    "list_audio_features_canciones = sp.audio_features(list_uri_songs)"
   ]
  },
  {
   "cell_type": "code",
   "execution_count": 20,
   "metadata": {},
   "outputs": [
    {
     "name": "stdout",
     "output_type": "stream",
     "text": [
      "dict_keys(['danceability', 'energy', 'key', 'loudness', 'mode', 'speechiness', 'acousticness', 'instrumentalness', 'liveness', 'valence', 'tempo', 'type', 'id', 'uri', 'track_href', 'analysis_url', 'duration_ms', 'time_signature'])\n"
     ]
    }
   ],
   "source": [
    "dict_primer_elemento_list_audio_features = list_audio_features_canciones[0]\n",
    "print(dict_primer_elemento_list_audio_features.keys())"
   ]
  },
  {
   "cell_type": "markdown",
   "metadata": {},
   "source": [
    "## Crear `pandas.DataFrame`"
   ]
  },
  {
   "cell_type": "code",
   "execution_count": 28,
   "metadata": {},
   "outputs": [],
   "source": [
    "dict_canciones_caracteristicas = dict(\n",
    "    # Bueno, name no es lista vacia\n",
    "    # pero las demás si\n",
    "    name = list_names_songs,\n",
    "    danceability = [],\n",
    "    energy = [],\n",
    "    key = [],\n",
    "    loudness = [],\n",
    "    mode = [],\n",
    "    speechiness = [],\n",
    "    acousticness = [],\n",
    "    instrumentalness = [],\n",
    "    liveness = [],\n",
    "    valence = [],\n",
    "    tempo = [],\n",
    "    duration_ms = []\n",
    ")"
   ]
  },
  {
   "cell_type": "code",
   "execution_count": 29,
   "metadata": {},
   "outputs": [],
   "source": [
    "# Primera iteraciòn: a través de los elementos de la lista de audio features\n",
    "for dict_audio_features_cancion in list_audio_features_canciones:\n",
    "    # Segunda iteración: a través de las llaves del diccionario\n",
    "    for llave in dict_audio_features_cancion:\n",
    "        # Revisamos si una de sus llaves esta en dict_canciones_caracteristicas\n",
    "        if llave in list(dict_canciones_caracteristicas.keys()):\n",
    "            # Si está, se guarda el audio feature en la llave correcta\n",
    "            dict_canciones_caracteristicas[llave].append(dict_audio_features_cancion[llave])"
   ]
  },
  {
   "cell_type": "code",
   "execution_count": 32,
   "metadata": {},
   "outputs": [
    {
     "data": {
      "text/html": [
       "<div>\n",
       "<style scoped>\n",
       "    .dataframe tbody tr th:only-of-type {\n",
       "        vertical-align: middle;\n",
       "    }\n",
       "\n",
       "    .dataframe tbody tr th {\n",
       "        vertical-align: top;\n",
       "    }\n",
       "\n",
       "    .dataframe thead th {\n",
       "        text-align: right;\n",
       "    }\n",
       "</style>\n",
       "<table border=\"1\" class=\"dataframe\">\n",
       "  <thead>\n",
       "    <tr style=\"text-align: right;\">\n",
       "      <th></th>\n",
       "      <th>name</th>\n",
       "      <th>danceability</th>\n",
       "      <th>energy</th>\n",
       "      <th>key</th>\n",
       "      <th>loudness</th>\n",
       "      <th>mode</th>\n",
       "      <th>speechiness</th>\n",
       "      <th>acousticness</th>\n",
       "      <th>instrumentalness</th>\n",
       "      <th>liveness</th>\n",
       "      <th>valence</th>\n",
       "      <th>tempo</th>\n",
       "      <th>duration_ms</th>\n",
       "    </tr>\n",
       "  </thead>\n",
       "  <tbody>\n",
       "    <tr>\n",
       "      <th>0</th>\n",
       "      <td>Music For a Sushi Restaurant</td>\n",
       "      <td>0.720</td>\n",
       "      <td>0.715</td>\n",
       "      <td>11</td>\n",
       "      <td>-4.652</td>\n",
       "      <td>1</td>\n",
       "      <td>0.0400</td>\n",
       "      <td>0.258</td>\n",
       "      <td>0.056800</td>\n",
       "      <td>0.1070</td>\n",
       "      <td>0.357</td>\n",
       "      <td>107.041</td>\n",
       "      <td>193813</td>\n",
       "    </tr>\n",
       "    <tr>\n",
       "      <th>1</th>\n",
       "      <td>Late Night Talking</td>\n",
       "      <td>0.714</td>\n",
       "      <td>0.728</td>\n",
       "      <td>10</td>\n",
       "      <td>-4.595</td>\n",
       "      <td>1</td>\n",
       "      <td>0.0468</td>\n",
       "      <td>0.298</td>\n",
       "      <td>0.000000</td>\n",
       "      <td>0.1060</td>\n",
       "      <td>0.901</td>\n",
       "      <td>114.996</td>\n",
       "      <td>177955</td>\n",
       "    </tr>\n",
       "    <tr>\n",
       "      <th>2</th>\n",
       "      <td>Grapejuice</td>\n",
       "      <td>0.645</td>\n",
       "      <td>0.721</td>\n",
       "      <td>5</td>\n",
       "      <td>-4.394</td>\n",
       "      <td>1</td>\n",
       "      <td>0.0336</td>\n",
       "      <td>0.357</td>\n",
       "      <td>0.143000</td>\n",
       "      <td>0.2040</td>\n",
       "      <td>0.880</td>\n",
       "      <td>182.928</td>\n",
       "      <td>191959</td>\n",
       "    </tr>\n",
       "    <tr>\n",
       "      <th>3</th>\n",
       "      <td>As It Was</td>\n",
       "      <td>0.520</td>\n",
       "      <td>0.731</td>\n",
       "      <td>6</td>\n",
       "      <td>-5.338</td>\n",
       "      <td>0</td>\n",
       "      <td>0.0557</td>\n",
       "      <td>0.342</td>\n",
       "      <td>0.001010</td>\n",
       "      <td>0.3110</td>\n",
       "      <td>0.662</td>\n",
       "      <td>173.930</td>\n",
       "      <td>167303</td>\n",
       "    </tr>\n",
       "    <tr>\n",
       "      <th>4</th>\n",
       "      <td>Daylight</td>\n",
       "      <td>0.686</td>\n",
       "      <td>0.445</td>\n",
       "      <td>0</td>\n",
       "      <td>-7.189</td>\n",
       "      <td>1</td>\n",
       "      <td>0.0398</td>\n",
       "      <td>0.484</td>\n",
       "      <td>0.001440</td>\n",
       "      <td>0.1750</td>\n",
       "      <td>0.626</td>\n",
       "      <td>145.500</td>\n",
       "      <td>164533</td>\n",
       "    </tr>\n",
       "    <tr>\n",
       "      <th>5</th>\n",
       "      <td>Little Freak</td>\n",
       "      <td>0.559</td>\n",
       "      <td>0.535</td>\n",
       "      <td>3</td>\n",
       "      <td>-7.723</td>\n",
       "      <td>1</td>\n",
       "      <td>0.0390</td>\n",
       "      <td>0.719</td>\n",
       "      <td>0.000143</td>\n",
       "      <td>0.0954</td>\n",
       "      <td>0.402</td>\n",
       "      <td>141.960</td>\n",
       "      <td>202183</td>\n",
       "    </tr>\n",
       "    <tr>\n",
       "      <th>6</th>\n",
       "      <td>Matilda</td>\n",
       "      <td>0.507</td>\n",
       "      <td>0.294</td>\n",
       "      <td>2</td>\n",
       "      <td>-10.000</td>\n",
       "      <td>1</td>\n",
       "      <td>0.0400</td>\n",
       "      <td>0.896</td>\n",
       "      <td>0.000020</td>\n",
       "      <td>0.0966</td>\n",
       "      <td>0.386</td>\n",
       "      <td>114.199</td>\n",
       "      <td>245964</td>\n",
       "    </tr>\n",
       "    <tr>\n",
       "      <th>7</th>\n",
       "      <td>Cinema</td>\n",
       "      <td>0.829</td>\n",
       "      <td>0.644</td>\n",
       "      <td>9</td>\n",
       "      <td>-7.696</td>\n",
       "      <td>0</td>\n",
       "      <td>0.0427</td>\n",
       "      <td>0.354</td>\n",
       "      <td>0.051100</td>\n",
       "      <td>0.0944</td>\n",
       "      <td>0.896</td>\n",
       "      <td>105.993</td>\n",
       "      <td>243508</td>\n",
       "    </tr>\n",
       "    <tr>\n",
       "      <th>8</th>\n",
       "      <td>Daydreaming</td>\n",
       "      <td>0.707</td>\n",
       "      <td>0.811</td>\n",
       "      <td>4</td>\n",
       "      <td>-5.298</td>\n",
       "      <td>0</td>\n",
       "      <td>0.0304</td>\n",
       "      <td>0.311</td>\n",
       "      <td>0.015200</td>\n",
       "      <td>0.1310</td>\n",
       "      <td>0.899</td>\n",
       "      <td>113.971</td>\n",
       "      <td>187342</td>\n",
       "    </tr>\n",
       "    <tr>\n",
       "      <th>9</th>\n",
       "      <td>Keep Driving</td>\n",
       "      <td>0.721</td>\n",
       "      <td>0.479</td>\n",
       "      <td>9</td>\n",
       "      <td>-9.669</td>\n",
       "      <td>1</td>\n",
       "      <td>0.2260</td>\n",
       "      <td>0.321</td>\n",
       "      <td>0.001560</td>\n",
       "      <td>0.1820</td>\n",
       "      <td>0.902</td>\n",
       "      <td>164.948</td>\n",
       "      <td>140242</td>\n",
       "    </tr>\n",
       "    <tr>\n",
       "      <th>10</th>\n",
       "      <td>Satellite</td>\n",
       "      <td>0.576</td>\n",
       "      <td>0.457</td>\n",
       "      <td>0</td>\n",
       "      <td>-6.473</td>\n",
       "      <td>1</td>\n",
       "      <td>0.0304</td>\n",
       "      <td>0.143</td>\n",
       "      <td>0.000030</td>\n",
       "      <td>0.0917</td>\n",
       "      <td>0.301</td>\n",
       "      <td>138.984</td>\n",
       "      <td>218577</td>\n",
       "    </tr>\n",
       "    <tr>\n",
       "      <th>11</th>\n",
       "      <td>Boyfriends</td>\n",
       "      <td>0.417</td>\n",
       "      <td>0.202</td>\n",
       "      <td>0</td>\n",
       "      <td>-10.976</td>\n",
       "      <td>1</td>\n",
       "      <td>0.0357</td>\n",
       "      <td>0.935</td>\n",
       "      <td>0.000000</td>\n",
       "      <td>0.1080</td>\n",
       "      <td>0.323</td>\n",
       "      <td>118.029</td>\n",
       "      <td>194544</td>\n",
       "    </tr>\n",
       "    <tr>\n",
       "      <th>12</th>\n",
       "      <td>Love Of My Life</td>\n",
       "      <td>0.555</td>\n",
       "      <td>0.536</td>\n",
       "      <td>7</td>\n",
       "      <td>-8.233</td>\n",
       "      <td>1</td>\n",
       "      <td>0.0452</td>\n",
       "      <td>0.669</td>\n",
       "      <td>0.000000</td>\n",
       "      <td>0.0623</td>\n",
       "      <td>0.203</td>\n",
       "      <td>118.057</td>\n",
       "      <td>191638</td>\n",
       "    </tr>\n",
       "  </tbody>\n",
       "</table>\n",
       "</div>"
      ],
      "text/plain": [
       "                            name  danceability  energy  key  loudness  mode  \\\n",
       "0   Music For a Sushi Restaurant         0.720   0.715   11    -4.652     1   \n",
       "1             Late Night Talking         0.714   0.728   10    -4.595     1   \n",
       "2                     Grapejuice         0.645   0.721    5    -4.394     1   \n",
       "3                      As It Was         0.520   0.731    6    -5.338     0   \n",
       "4                       Daylight         0.686   0.445    0    -7.189     1   \n",
       "5                   Little Freak         0.559   0.535    3    -7.723     1   \n",
       "6                        Matilda         0.507   0.294    2   -10.000     1   \n",
       "7                         Cinema         0.829   0.644    9    -7.696     0   \n",
       "8                    Daydreaming         0.707   0.811    4    -5.298     0   \n",
       "9                   Keep Driving         0.721   0.479    9    -9.669     1   \n",
       "10                     Satellite         0.576   0.457    0    -6.473     1   \n",
       "11                    Boyfriends         0.417   0.202    0   -10.976     1   \n",
       "12               Love Of My Life         0.555   0.536    7    -8.233     1   \n",
       "\n",
       "    speechiness  acousticness  instrumentalness  liveness  valence    tempo  \\\n",
       "0        0.0400         0.258          0.056800    0.1070    0.357  107.041   \n",
       "1        0.0468         0.298          0.000000    0.1060    0.901  114.996   \n",
       "2        0.0336         0.357          0.143000    0.2040    0.880  182.928   \n",
       "3        0.0557         0.342          0.001010    0.3110    0.662  173.930   \n",
       "4        0.0398         0.484          0.001440    0.1750    0.626  145.500   \n",
       "5        0.0390         0.719          0.000143    0.0954    0.402  141.960   \n",
       "6        0.0400         0.896          0.000020    0.0966    0.386  114.199   \n",
       "7        0.0427         0.354          0.051100    0.0944    0.896  105.993   \n",
       "8        0.0304         0.311          0.015200    0.1310    0.899  113.971   \n",
       "9        0.2260         0.321          0.001560    0.1820    0.902  164.948   \n",
       "10       0.0304         0.143          0.000030    0.0917    0.301  138.984   \n",
       "11       0.0357         0.935          0.000000    0.1080    0.323  118.029   \n",
       "12       0.0452         0.669          0.000000    0.0623    0.203  118.057   \n",
       "\n",
       "    duration_ms  \n",
       "0        193813  \n",
       "1        177955  \n",
       "2        191959  \n",
       "3        167303  \n",
       "4        164533  \n",
       "5        202183  \n",
       "6        245964  \n",
       "7        243508  \n",
       "8        187342  \n",
       "9        140242  \n",
       "10       218577  \n",
       "11       194544  \n",
       "12       191638  "
      ]
     },
     "execution_count": 32,
     "metadata": {},
     "output_type": "execute_result"
    }
   ],
   "source": [
    "df = pd.DataFrame(dict_canciones_caracteristicas)\n",
    "df"
   ]
  },
  {
   "cell_type": "code",
   "execution_count": null,
   "metadata": {},
   "outputs": [],
   "source": [
    "df.to_csv(\"./harrys_house_spotify_audio_features.csv\", index=False)"
   ]
  }
 ],
 "metadata": {
  "interpreter": {
   "hash": "f92b80126452d1b1df02d4ec903006db7e42afba37a86d4cc2b5d7ce04f56ff3"
  },
  "kernelspec": {
   "display_name": "Python 3.8.12 ('spotify_api')",
   "language": "python",
   "name": "python3"
  },
  "language_info": {
   "codemirror_mode": {
    "name": "ipython",
    "version": 3
   },
   "file_extension": ".py",
   "mimetype": "text/x-python",
   "name": "python",
   "nbconvert_exporter": "python",
   "pygments_lexer": "ipython3",
   "version": "3.8.12"
  },
  "orig_nbformat": 4
 },
 "nbformat": 4,
 "nbformat_minor": 2
}
